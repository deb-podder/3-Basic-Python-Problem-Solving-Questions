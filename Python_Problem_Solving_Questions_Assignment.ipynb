{
 "cells": [
  {
   "cell_type": "markdown",
   "metadata": {},
   "source": [
    "# Question 1:\n",
    "\n",
    "\n",
    "Maria plays college basketball and wants to go pro. Each season she maintains a record of her play. She tabulates the number of times she breaks her season record for most points and least points in a game. Points scored in the first game establish her record for the season, and she begins counting from there.\n",
    "\n",
    "For example, assume her scores for the season are represented in the array = [12,24,10,24] . Scores are in the same order as the games played.\n",
    "\n",
    "Given Maria's scores for a season, find and print the number of times she breaks her records.\n",
    "\n",
    "Create a user defined function which can take:\n",
    "\n",
    "- number of matches played\n",
    "- scores in those matches\n",
    "\n",
    "Output: an integer - how many times she has broken her own records in the season\n",
    "\n",
    "The function defined should pass following test cases by returning the desired output:\n",
    "\n",
    "- 4\n",
    "- 12,24,10,24\n",
    "- output: 1\n",
    "\n",
    "\n",
    "- 8\n",
    "- 10, 5, 20, 20, 4, 6, 25, 20\n",
    "- output: 2\n",
    "\n",
    "\n",
    "- 12\n",
    "- 1,2,2,3,3,3,4,4,4,4,5,5\n",
    "- output: 4"
   ]
  },
  {
   "cell_type": "code",
   "execution_count": 25,
   "metadata": {},
   "outputs": [],
   "source": [
    "def record(games,score):\n",
    "    first=score[0]\n",
    "    count=0\n",
    "    for i in score:\n",
    "        if i>first:\n",
    "            count+=1\n",
    "            first=i\n",
    "    return(count)"
   ]
  },
  {
   "cell_type": "code",
   "execution_count": 29,
   "metadata": {},
   "outputs": [
    {
     "name": "stdout",
     "output_type": "stream",
     "text": [
      "Enter the number of matches played:\t8\n",
      "Enter the score of match 1:\t10\n",
      "Enter the score of match 2:\t5\n",
      "Enter the score of match 3:\t20\n",
      "Enter the score of match 4:\t20\n",
      "Enter the score of match 5:\t4\n",
      "Enter the score of match 6:\t6\n",
      "Enter the score of match 7:\t25\n",
      "Enter the score of match 8:\t20\n",
      "\n",
      "Number of times record broke:\t 2\n"
     ]
    }
   ],
   "source": [
    "num=int(input(\"Enter the number of matches played:\\t\"))\n",
    "point=[]\n",
    "for x in range(0,num):\n",
    "    a=int(input(\"Enter the score of match {}:\\t\".format(x+1)))\n",
    "    point.append(a)\n",
    "print(\"\\nNumber of times record broke:\\t\",record(num,point))"
   ]
  },
  {
   "cell_type": "markdown",
   "metadata": {},
   "source": [
    "# Question 2:\n",
    "\n",
    "John works at a clothing store. He has a large pile of socks that he must pair by color for sale. Given an array of integers representing the color of each sock, determine how many pairs of socks with matching colors there are.\n",
    "\n",
    "For example, there are n=7 socks with colors array = [1,2,1,2,1,3,2]. There is one pair of color '1' and one of color '2'. There are three odd socks left, one of each color. The number of pairs is '2'.\n",
    "\n",
    "Create a user defined function 'sockMerchant' can take parameters:\n",
    "\n",
    "n: the number of socks in the pile\n",
    "\n",
    "ar: the colors of each sock\n",
    "\n",
    "Output: It must return an integer representing the number of matching pairs of socks that are available.\n",
    "\n",
    "The function defined should pass following test cases by returning the desired output:\n",
    "\n",
    "- 5\n",
    "- 1,1,2,2,2\n",
    "- output: 2\n",
    "\n",
    "\n",
    "- 8\n",
    "- 1,1,1,2,2,3,4,4\n",
    "- output: 3\n",
    "\n",
    "\n",
    "- 12\n",
    "- 1,2,1,3,4,2,6,3,5,2,1,5\n",
    "- output: 4"
   ]
  },
  {
   "cell_type": "code",
   "execution_count": 3,
   "metadata": {},
   "outputs": [],
   "source": [
    "import math\n",
    "def sockMerchant(ar):\n",
    "    socks=list(set(ar))\n",
    "    color=0\n",
    "    pair=0\n",
    "    for x in socks:\n",
    "        color=ar.count(x)\n",
    "        pair=pair+math.trunc(color/2)\n",
    "    return pair"
   ]
  },
  {
   "cell_type": "code",
   "execution_count": 4,
   "metadata": {},
   "outputs": [
    {
     "name": "stdout",
     "output_type": "stream",
     "text": [
      "Enter the number of socks:\t12\n",
      "Enter the color of sock 1:\t1\n",
      "Enter the color of sock 2:\t2\n",
      "Enter the color of sock 3:\t1\n",
      "Enter the color of sock 4:\t3\n",
      "Enter the color of sock 5:\t4\n",
      "Enter the color of sock 6:\t2\n",
      "Enter the color of sock 7:\t6\n",
      "Enter the color of sock 8:\t3\n",
      "Enter the color of sock 9:\t5\n",
      "Enter the color of sock 10:\t2\n",
      "Enter the color of sock 11:\t1\n",
      "Enter the color of sock 12:\t5\n",
      "\n",
      "Number of matching pairs of socks:\t 4\n"
     ]
    }
   ],
   "source": [
    "num=int(input(\"Enter the number of socks:\\t\"))\n",
    "sock_color=[]\n",
    "for s in range(0,num):\n",
    "    a=int(input(\"Enter the color of sock {}:\\t\".format(s+1)))\n",
    "    sock_color.append(a)\n",
    "print(\"\\nNumber of matching pairs of socks:\\t\",sockMerchant(sock_color))"
   ]
  },
  {
   "cell_type": "markdown",
   "metadata": {},
   "source": [
    "# Question 3:\n",
    "\n",
    "Gary is an avid hiker. He tracks his hikes meticulously, paying close attention to small details like topography. During his last hike he took exactly 'n' steps. For every step he took, he noted if it was an uphill,'U', or a downhill, 'D' step. Gary's hikes start and end at sea level and each step up or down represents a 1 unit change in altitude. We define the following terms:\n",
    "\n",
    "- A mountain is a sequence of consecutive steps above sea level, starting with a step up from sea level and ending with a step down to sea level.\n",
    "- A valley is a sequence of consecutive steps below sea level, starting with a step down from sea level and ending with a step up to sea level.\n",
    "\n",
    "Given Gary's sequence of up and down steps during his last hike, find and print the number of valleys he walked through.\n",
    "\n",
    "For example, if Gary's path is:\n",
    "\n",
    "s = [DDUUUUDD]\n",
    "\n",
    "He first enters a valley  units deep. Then he climbs out an up onto a mountain  units high. Finally, he returns to sea level and ends his hike.\n",
    "\n",
    "Create a User Defined Function to solve this problem with the following description:\n",
    "\n",
    "Complete the countingValleys function in the editor below. It must return an integer that denotes the number of valleys Gary traversed.\n",
    "\n",
    "countingValleys has the following parameter(s):\n",
    "\n",
    "- s: a string describing his path\n",
    "\n",
    "Test your function with following inputs:\n",
    "\n",
    "- UDDDUDUU\n",
    "- output: 1\n",
    "\n",
    "\n",
    "- DDUUDDUDUUUD\n",
    "- output: 2\n",
    "\n",
    "\n",
    "- UDUUUDUDDD\n",
    "- output: 0\n",
    "\n",
    "\n",
    "\n",
    "- DUDDDUUDUU\n",
    "- output: 2\n",
    "\n",
    "\n",
    "- DDUDDUUDUU\n",
    "- output: 1"
   ]
  },
  {
   "cell_type": "code",
   "execution_count": 5,
   "metadata": {},
   "outputs": [],
   "source": [
    "def countingValleys(ar):\n",
    "    ar=[1 if x==\"U\" else -1 for x in ar]\n",
    "    c=0\n",
    "    valley=0\n",
    "    for i in ar:    \n",
    "        if i==1:\n",
    "            c+=1\n",
    "            if c==0:\n",
    "                valley+=1\n",
    "        else:\n",
    "            c-=1\n",
    "    return valley"
   ]
  },
  {
   "cell_type": "code",
   "execution_count": 6,
   "metadata": {},
   "outputs": [
    {
     "name": "stdout",
     "output_type": "stream",
     "text": [
      "Enter the length of the route:\t10\n",
      "Please input 'U':for Uphill and 'D':for Downhill\n",
      "\n",
      "Enter the value:\td\n",
      "Enter the value:\td\n",
      "Enter the value:\tu\n",
      "Enter the value:\td\n",
      "Enter the value:\td\n",
      "Enter the value:\tu\n",
      "Enter the value:\tu\n",
      "Enter the value:\td\n",
      "Enter the value:\tu\n",
      "Enter the value:\tu\n",
      "\n",
      "Total number of valleys:\t 1\n"
     ]
    }
   ],
   "source": [
    "num=int(input(\"Enter the length of the route:\\t\"))\n",
    "terrain=[]\n",
    "print(\"Please input 'U':for Uphill and 'D':for Downhill\\n\")\n",
    "for t in range(0,num):\n",
    "    a=str(input(\"Enter the value:\\t\"))\n",
    "    terrain.append(a)\n",
    "terrain = [x.upper() for x in terrain]\n",
    "print(\"\\nTotal number of valleys:\\t\",countingValleys(terrain))"
   ]
  },
  {
   "cell_type": "code",
   "execution_count": null,
   "metadata": {},
   "outputs": [],
   "source": []
  }
 ],
 "metadata": {
  "kernelspec": {
   "display_name": "Python 3",
   "language": "python",
   "name": "python3"
  },
  "language_info": {
   "codemirror_mode": {
    "name": "ipython",
    "version": 3
   },
   "file_extension": ".py",
   "mimetype": "text/x-python",
   "name": "python",
   "nbconvert_exporter": "python",
   "pygments_lexer": "ipython3",
   "version": "3.7.4"
  },
  "toc": {
   "base_numbering": 1,
   "nav_menu": {},
   "number_sections": true,
   "sideBar": true,
   "skip_h1_title": false,
   "title_cell": "Table of Contents",
   "title_sidebar": "Contents",
   "toc_cell": false,
   "toc_position": {},
   "toc_section_display": true,
   "toc_window_display": false
  }
 },
 "nbformat": 4,
 "nbformat_minor": 2
}
